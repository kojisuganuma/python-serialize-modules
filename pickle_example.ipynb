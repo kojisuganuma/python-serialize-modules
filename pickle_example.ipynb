{
 "cells": [
  {
   "cell_type": "code",
   "execution_count": 1,
   "metadata": {
    "collapsed": false
   },
   "outputs": [],
   "source": [
    "import pickle\n",
    "\n",
    "def dumps_loads(obj):\n",
    "    \"\"\"dumps -> file.write -> file.read -> loads\"\"\"\n",
    "    with open('/tmp/serialize_test.pkl', 'wb') as f:\n",
    "        f.write(pickle.dumps(obj))\n",
    "        \n",
    "    with open('/tmp/serialize_test.pkl', 'rb') as f:\n",
    "        ojb_ = pickle.loads(f.read())\n",
    "\n",
    "    return ojb_\n",
    "    \n",
    "def dumps(obj):\n",
    "    \"\"\"dumps -> file.write\"\"\"\n",
    "    with open('/tmp/serialize_test.pkl', 'wb') as f:\n",
    "        f.write(pickle.dumps(obj))\n",
    "    \n",
    "def loads():\n",
    "    \"\"\"file.read -> loads\"\"\"\n",
    "    with open('/tmp/serialize_test.pkl', 'rb') as f:\n",
    "        ojb_ = pickle.loads(f.read())\n",
    "        \n",
    "    return ojb_"
   ]
  },
  {
   "cell_type": "markdown",
   "metadata": {},
   "source": [
    "# シリアライズできる例"
   ]
  },
  {
   "cell_type": "code",
   "execution_count": 2,
   "metadata": {
    "collapsed": false
   },
   "outputs": [
    {
     "name": "stdout",
     "output_type": "stream",
     "text": [
      "None\n",
      "True\n",
      "1\n",
      "0.1\n",
      "(1+2j)\n",
      "hoge\n",
      "b'hoge'\n",
      "b'\\x02\\x1f\\xa0'\n",
      "(None, 0.1, 'hoge')\n",
      "[None, 0.1, 'hoge']\n",
      "{0.1, None, 'hoge'}\n",
      "{'None': None, '0.1': 0.1, 'hoge': 'hoge'}\n",
      "<function hoge at 0x10b416ea0>\n",
      "hoge\n",
      "<class '__main__.Fuga'>\n",
      "<__main__.Fuga object at 0x10b426c18>\n"
     ]
    }
   ],
   "source": [
    "print(dumps_loads(None))\n",
    "print(dumps_loads(True))\n",
    "print(dumps_loads(1))\n",
    "print(dumps_loads(0.1))\n",
    "print(dumps_loads(1 + 2j))\n",
    "print(dumps_loads('hoge'))\n",
    "print(dumps_loads(b'hoge'))\n",
    "print(dumps_loads(b'\\x02\\x1f\\xa0'))\n",
    "print(dumps_loads((None, 0.1, 'hoge')))\n",
    "print(dumps_loads([None, 0.1, 'hoge']))\n",
    "print(dumps_loads({None, 0.1, 'hoge'}))\n",
    "print(dumps_loads({'None': None, '0.1': 0.1, 'hoge': 'hoge'}))\n",
    "\n",
    "def hoge():\n",
    "    return 'hoge'\n",
    "\n",
    "print(dumps_loads(hoge))\n",
    "print(dumps_loads(hoge()))\n",
    "\n",
    "class Fuga():\n",
    "    def __init__(self):\n",
    "        self.a = 'Fuga'\n",
    "\n",
    "print(dumps_loads(Fuga))\n",
    "print(dumps_loads(Fuga()))"
   ]
  },
  {
   "cell_type": "markdown",
   "metadata": {},
   "source": [
    "# シリアライズできない例"
   ]
  },
  {
   "cell_type": "code",
   "execution_count": 3,
   "metadata": {
    "collapsed": false
   },
   "outputs": [
    {
     "ename": "AttributeError",
     "evalue": "Can't pickle local object 'Piyo.__init__.<locals>.<lambda>'",
     "output_type": "error",
     "traceback": [
      "\u001b[0;31m---------------------------------------------------------------------------\u001b[0m",
      "\u001b[0;31mAttributeError\u001b[0m                            Traceback (most recent call last)",
      "\u001b[0;32m<ipython-input-3-76a2a32386b8>\u001b[0m in \u001b[0;36m<module>\u001b[0;34m()\u001b[0m\n\u001b[1;32m      4\u001b[0m         \u001b[0mself\u001b[0m\u001b[0;34m.\u001b[0m\u001b[0mf\u001b[0m \u001b[0;34m=\u001b[0m \u001b[0;32mlambda\u001b[0m \u001b[0mx\u001b[0m\u001b[0;34m:\u001b[0m \u001b[0mx\u001b[0m\u001b[0;34m**\u001b[0m\u001b[0;36m2\u001b[0m  \u001b[0;31m# データ属性に無名関数 lambda を使うとエラー\u001b[0m\u001b[0;34m\u001b[0m\u001b[0m\n\u001b[1;32m      5\u001b[0m \u001b[0;34m\u001b[0m\u001b[0m\n\u001b[0;32m----> 6\u001b[0;31m \u001b[0mprint\u001b[0m\u001b[0;34m(\u001b[0m\u001b[0mdumps_loads\u001b[0m\u001b[0;34m(\u001b[0m\u001b[0mPiyo\u001b[0m\u001b[0;34m(\u001b[0m\u001b[0;34m)\u001b[0m\u001b[0;34m)\u001b[0m\u001b[0;34m)\u001b[0m\u001b[0;34m\u001b[0m\u001b[0m\n\u001b[0m",
      "\u001b[0;32m<ipython-input-1-4a6e066c5e22>\u001b[0m in \u001b[0;36mdumps_loads\u001b[0;34m(obj)\u001b[0m\n\u001b[1;32m      4\u001b[0m     \u001b[0;34m\"\"\"dumps -> file.write -> file.read -> loads\"\"\"\u001b[0m\u001b[0;34m\u001b[0m\u001b[0m\n\u001b[1;32m      5\u001b[0m     \u001b[0;32mwith\u001b[0m \u001b[0mopen\u001b[0m\u001b[0;34m(\u001b[0m\u001b[0;34m'/tmp/serialize_test.pkl'\u001b[0m\u001b[0;34m,\u001b[0m \u001b[0;34m'wb'\u001b[0m\u001b[0;34m)\u001b[0m \u001b[0;32mas\u001b[0m \u001b[0mf\u001b[0m\u001b[0;34m:\u001b[0m\u001b[0;34m\u001b[0m\u001b[0m\n\u001b[0;32m----> 6\u001b[0;31m         \u001b[0mf\u001b[0m\u001b[0;34m.\u001b[0m\u001b[0mwrite\u001b[0m\u001b[0;34m(\u001b[0m\u001b[0mpickle\u001b[0m\u001b[0;34m.\u001b[0m\u001b[0mdumps\u001b[0m\u001b[0;34m(\u001b[0m\u001b[0mobj\u001b[0m\u001b[0;34m)\u001b[0m\u001b[0;34m)\u001b[0m\u001b[0;34m\u001b[0m\u001b[0m\n\u001b[0m\u001b[1;32m      7\u001b[0m \u001b[0;34m\u001b[0m\u001b[0m\n\u001b[1;32m      8\u001b[0m     \u001b[0;32mwith\u001b[0m \u001b[0mopen\u001b[0m\u001b[0;34m(\u001b[0m\u001b[0;34m'/tmp/serialize_test.pkl'\u001b[0m\u001b[0;34m,\u001b[0m \u001b[0;34m'rb'\u001b[0m\u001b[0;34m)\u001b[0m \u001b[0;32mas\u001b[0m \u001b[0mf\u001b[0m\u001b[0;34m:\u001b[0m\u001b[0;34m\u001b[0m\u001b[0m\n",
      "\u001b[0;31mAttributeError\u001b[0m: Can't pickle local object 'Piyo.__init__.<locals>.<lambda>'"
     ]
    }
   ],
   "source": [
    "class Piyo:\n",
    "    def __init__(self):\n",
    "        f = lambda x: x**2  # ローカル変数に無名関数を使うはセーフ\n",
    "        self.f = lambda x: x**2  # データ属性に無名関数 lambda を使うとエラー\n",
    "\n",
    "print(dumps_loads(Piyo()))"
   ]
  },
  {
   "cell_type": "markdown",
   "metadata": {},
   "source": [
    "# デシリアライズできない例"
   ]
  },
  {
   "cell_type": "code",
   "execution_count": 4,
   "metadata": {
    "collapsed": false
   },
   "outputs": [
    {
     "name": "stdout",
     "output_type": "stream",
     "text": [
      "FOO\n"
     ]
    },
    {
     "ename": "NameError",
     "evalue": "name 'FOO' is not defined",
     "output_type": "error",
     "traceback": [
      "\u001b[0;31m---------------------------------------------------------------------------\u001b[0m",
      "\u001b[0;31mNameError\u001b[0m                                 Traceback (most recent call last)",
      "\u001b[0;32m<ipython-input-4-3053569646b5>\u001b[0m in \u001b[0;36m<module>\u001b[0;34m()\u001b[0m\n\u001b[1;32m     10\u001b[0m \u001b[0;31m# シリアライズする側でグローバル変数を定義 & 関数やクラスなどがそれを参照している場合、デシリアライズする側でも定義する必要がある。\u001b[0m\u001b[0;34m\u001b[0m\u001b[0;34m\u001b[0m\u001b[0m\n\u001b[1;32m     11\u001b[0m \u001b[0;32mdel\u001b[0m \u001b[0mFOO\u001b[0m\u001b[0;34m\u001b[0m\u001b[0m\n\u001b[0;32m---> 12\u001b[0;31m \u001b[0mprint\u001b[0m\u001b[0;34m(\u001b[0m\u001b[0mloads\u001b[0m\u001b[0;34m(\u001b[0m\u001b[0;34m)\u001b[0m\u001b[0;34m(\u001b[0m\u001b[0;34m)\u001b[0m\u001b[0;34m)\u001b[0m  \u001b[0;31m# グローバル変数 FOO が参照できないのでエラー\u001b[0m\u001b[0;34m\u001b[0m\u001b[0m\n\u001b[0m",
      "\u001b[0;32m<ipython-input-4-3053569646b5>\u001b[0m in \u001b[0;36mfoo\u001b[0;34m()\u001b[0m\n\u001b[1;32m      2\u001b[0m \u001b[0;34m\u001b[0m\u001b[0m\n\u001b[1;32m      3\u001b[0m \u001b[0;32mdef\u001b[0m \u001b[0mfoo\u001b[0m\u001b[0;34m(\u001b[0m\u001b[0;34m)\u001b[0m\u001b[0;34m:\u001b[0m\u001b[0;34m\u001b[0m\u001b[0m\n\u001b[0;32m----> 4\u001b[0;31m     \u001b[0;32mreturn\u001b[0m \u001b[0mFOO\u001b[0m\u001b[0;34m\u001b[0m\u001b[0m\n\u001b[0m\u001b[1;32m      5\u001b[0m \u001b[0;34m\u001b[0m\u001b[0m\n\u001b[1;32m      6\u001b[0m \u001b[0mdumps\u001b[0m\u001b[0;34m(\u001b[0m\u001b[0mfoo\u001b[0m\u001b[0;34m)\u001b[0m\u001b[0;34m\u001b[0m\u001b[0m\n",
      "\u001b[0;31mNameError\u001b[0m: name 'FOO' is not defined"
     ]
    }
   ],
   "source": [
    "FOO = 'FOO'\n",
    "\n",
    "def foo():\n",
    "    return FOO\n",
    "\n",
    "dumps(foo)\n",
    "print(loads()())  # グローバル変数 FOO が参照できる\n",
    "\n",
    "# 普段 del をすることはあまり無いが、シリアライズとデシリアライズを別環境で動作させた場合などを想定。\n",
    "# シリアライズする側でグローバル変数を定義 & 関数やクラスなどがそれを参照している場合、デシリアライズする側でも定義する必要がある。\n",
    "del FOO\n",
    "print(loads()())  # グローバル変数 FOO が参照できないのでエラー"
   ]
  }
 ],
 "metadata": {
  "kernelspec": {
   "display_name": "Python 3",
   "language": "python",
   "name": "python3"
  },
  "language_info": {
   "codemirror_mode": {
    "name": "ipython",
    "version": 3
   },
   "file_extension": ".py",
   "mimetype": "text/x-python",
   "name": "python",
   "nbconvert_exporter": "python",
   "pygments_lexer": "ipython3",
   "version": "3.6.0"
  }
 },
 "nbformat": 4,
 "nbformat_minor": 2
}
