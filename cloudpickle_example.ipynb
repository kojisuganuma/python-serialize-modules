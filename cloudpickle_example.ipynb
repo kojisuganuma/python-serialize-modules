{
 "cells": [
  {
   "cell_type": "code",
   "execution_count": 1,
   "metadata": {
    "collapsed": false
   },
   "outputs": [],
   "source": [
    "import cloudpickle\n",
    "\n",
    "def dumps_loads(obj):\n",
    "    \"\"\"dumps -> file.write -> file.read -> loads\"\"\"\n",
    "    with open('/tmp/serialize_test.pkl', 'wb') as f:\n",
    "        f.write(cloudpickle.dumps(obj))\n",
    "        \n",
    "    with open('/tmp/serialize_test.pkl', 'rb') as f:\n",
    "        ojb_ = cloudpickle.loads(f.read())\n",
    "\n",
    "    return ojb_\n",
    "    \n",
    "def dumps(obj):\n",
    "    \"\"\"dumps -> file.write\"\"\"\n",
    "    with open('/tmp/serialize_test.pkl', 'wb') as f:\n",
    "        f.write(cloudpickle.dumps(obj))\n",
    "    \n",
    "def loads():\n",
    "    \"\"\"file.read -> loads\"\"\"\n",
    "    with open('/tmp/serialize_test.pkl', 'rb') as f:\n",
    "        ojb_ = cloudpickle.loads(f.read())\n",
    "        \n",
    "    return ojb_"
   ]
  },
  {
   "cell_type": "markdown",
   "metadata": {},
   "source": [
    "# シリアライズできる例"
   ]
  },
  {
   "cell_type": "code",
   "execution_count": 2,
   "metadata": {
    "collapsed": false
   },
   "outputs": [
    {
     "name": "stdout",
     "output_type": "stream",
     "text": [
      "None\n",
      "True\n",
      "1\n",
      "0.1\n",
      "(1+2j)\n",
      "hoge\n",
      "b'hoge'\n",
      "b'\\x02\\x1f\\xa0'\n",
      "(None, 0.1, 'hoge')\n",
      "[None, 0.1, 'hoge']\n",
      "{0.1, None, 'hoge'}\n",
      "{'None': None, '0.1': 0.1, 'hoge': 'hoge'}\n",
      "<function hoge at 0x1092f3c80>\n",
      "hoge\n",
      "<class '__main__.Fuga'>\n",
      "<__main__.Fuga object at 0x109813390>\n"
     ]
    }
   ],
   "source": [
    "print(dumps_loads(None))\n",
    "print(dumps_loads(True))\n",
    "print(dumps_loads(1))\n",
    "print(dumps_loads(0.1))\n",
    "print(dumps_loads(1 + 2j))\n",
    "print(dumps_loads('hoge'))\n",
    "print(dumps_loads(b'hoge'))\n",
    "print(dumps_loads(b'\\x02\\x1f\\xa0'))\n",
    "print(dumps_loads((None, 0.1, 'hoge')))\n",
    "print(dumps_loads([None, 0.1, 'hoge']))\n",
    "print(dumps_loads({None, 0.1, 'hoge'}))\n",
    "print(dumps_loads({'None': None, '0.1': 0.1, 'hoge': 'hoge'}))\n",
    "\n",
    "def hoge():\n",
    "    return 'hoge'\n",
    "\n",
    "print(dumps_loads(hoge))\n",
    "print(dumps_loads(hoge()))\n",
    "\n",
    "class Fuga():\n",
    "    def __init__(self):\n",
    "        self.a = 'Fuga'\n",
    "\n",
    "print(dumps_loads(Fuga))\n",
    "print(dumps_loads(Fuga()))"
   ]
  },
  {
   "cell_type": "markdown",
   "metadata": {},
   "source": [
    "# シリアライズできるようになった例"
   ]
  },
  {
   "cell_type": "code",
   "execution_count": 3,
   "metadata": {
    "collapsed": false
   },
   "outputs": [
    {
     "name": "stdout",
     "output_type": "stream",
     "text": [
      "<__main__.Piyo object at 0x109813d68>\n"
     ]
    }
   ],
   "source": [
    "class Piyo:\n",
    "    def __init__(self):\n",
    "        f = lambda x: x**2  # ローカル変数に無名関数を使うはセーフ\n",
    "        self.f = lambda x: x**2  # データ属性に無名関数 lambda を使うのもセーフ\n",
    "\n",
    "print(dumps_loads(Piyo()))"
   ]
  },
  {
   "cell_type": "markdown",
   "metadata": {},
   "source": [
    "# デシリアライズできるようになった例"
   ]
  },
  {
   "cell_type": "code",
   "execution_count": 4,
   "metadata": {
    "collapsed": false
   },
   "outputs": [
    {
     "name": "stdout",
     "output_type": "stream",
     "text": [
      "FOO\n",
      "FOO\n"
     ]
    }
   ],
   "source": [
    "FOO = 'FOO'\n",
    "\n",
    "def foo():\n",
    "    return FOO\n",
    "\n",
    "dumps(foo)\n",
    "print(loads()())  # グローバル変数 FOO が参照できる。\n",
    "\n",
    "# 普段 del をすることはあまり無いが、シリアライズとデシリアライズを別環境で動作させた場合などを想定。\n",
    "del FOO\n",
    "print(loads()())  # 変数 FOO が参照できる。なお変数 FOO はグローバル変数ではないことに注意。"
   ]
  }
 ],
 "metadata": {
  "kernelspec": {
   "display_name": "Python 3",
   "language": "python",
   "name": "python3"
  },
  "language_info": {
   "codemirror_mode": {
    "name": "ipython",
    "version": 3
   },
   "file_extension": ".py",
   "mimetype": "text/x-python",
   "name": "python",
   "nbconvert_exporter": "python",
   "pygments_lexer": "ipython3",
   "version": "3.6.0"
  }
 },
 "nbformat": 4,
 "nbformat_minor": 2
}
